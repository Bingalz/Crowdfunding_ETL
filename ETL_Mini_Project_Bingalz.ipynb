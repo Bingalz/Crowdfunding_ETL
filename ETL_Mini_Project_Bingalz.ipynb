{
 "cells": [
  {
   "cell_type": "code",
   "execution_count": null,
   "metadata": {},
   "outputs": [],
   "source": [
    "# Import dependencies\n",
    "import pandas as pd\n",
    "import numpy as np\n",
    "pd.set_option('max_colwidth', 400)"
   ]
  },
  {
   "cell_type": "markdown",
   "metadata": {},
   "source": [
    "### Extract the crowdfunding.xlsx Data"
   ]
  },
  {
   "cell_type": "code",
   "execution_count": null,
   "metadata": {},
   "outputs": [],
   "source": [
    "# Read the data into a Pandas DataFrame\n",
    "crowdfunding_info_df = pd.read_excel('Resources\\crowdfunding.xlsx')\n",
    "crowdfunding_info_df['category'] = crowdfunding_info_df['category & sub-category'].str.split('/').str[0]\n",
    "crowdfunding_info_df['sub-category'] = crowdfunding_info_df['category & sub-category'].str.split('/').str[1]\n",
    "crowdfunding_info_df\n"
   ]
  },
  {
   "cell_type": "code",
   "execution_count": null,
   "metadata": {},
   "outputs": [],
   "source": [
    "#Category Df\n",
    "category_df=crowdfunding_info_df[['category']].drop_duplicates()\n",
    "\n",
    "id_values = ['cat' + str(i) for i in range(1, len(category_df) + 1)]\n",
    "\n",
    "# Create a new DataFrame with 'id' and 'category' columns\n",
    "category_df = pd.DataFrame({'category_id': id_values, 'category': category_df['category']})\n",
    "category_df.to_csv('category.csv', encoding='utf8', index=False)\n",
    "category_df\n"
   ]
  },
  {
   "cell_type": "code",
   "execution_count": null,
   "metadata": {},
   "outputs": [],
   "source": [
    "#SubCategory Df\n",
    "subcategory_df=crowdfunding_info_df[['sub-category']].drop_duplicates()\n",
    "\n",
    "id_values = ['subcat' + str(i) for i in range(1, len(subcategory_df) + 1)]\n",
    "\n",
    "# Create a new DataFrame with 'id' and 'category' columns\n",
    "subcategory_df = pd.DataFrame({'subcategory_id': id_values, 'sub-category': subcategory_df['sub-category']})\n",
    "subcategory_df = subcategory_df.rename(columns={'sub-category': 'subcategory'})\n",
    "subcategory_df.to_csv('subcategory.csv', encoding='utf8', index=False)\n",
    "subcategory_df"
   ]
  },
  {
   "cell_type": "code",
   "execution_count": null,
   "metadata": {},
   "outputs": [],
   "source": [
    "#Campaign df\n",
    "\n",
    "campaign_df = crowdfunding_info_df.drop(columns=['staff_pick','spotlight'])\n",
    "\n",
    "campaign_df = campaign_df.rename(columns={'blurb': 'description', 'launched_at': 'launch_date', 'deadline': 'end_date'})\n",
    "campaign_df['goal'] = campaign_df['goal'].astype(float)\n",
    "campaign_df['pledged'] = campaign_df['pledged'].astype(float)\n",
    "campaign_df['launch_date'] = pd.to_datetime(campaign_df['launch_date'], unit='s', utc=True)\n",
    "campaign_df['end_date'] = pd.to_datetime(campaign_df['end_date'], unit='s', utc=True)\n",
    "\n",
    "# Map category_id and subcategory_id using category_df and subcategory_df\n",
    "category_mapping = dict(zip(category_df['category'], category_df['category_id']))\n",
    "subcategory_mapping = dict(zip(subcategory_df['subcategory'], subcategory_df['subcategory_id']))\n",
    "\n",
    "campaign_df['category_id'] = campaign_df['category'].map(category_mapping)\n",
    "campaign_df['subcategory_id'] = campaign_df['sub-category'].map(subcategory_mapping)\n",
    "campaign_df = campaign_df.drop(columns=['category & sub-category','category','sub-category'])\n",
    "campaign_df.to_csv('campaign.csv', encoding='utf8', index=False)\n",
    "campaign_df"
   ]
  },
  {
   "cell_type": "code",
   "execution_count": null,
   "metadata": {},
   "outputs": [],
   "source": [
    "# Read the data into a Pandas DataFrame. Use the `header=2` parameter when reading in the data.\n",
    "contact_info_df = pd.read_excel(\"D:\\Extras\\contacts.xlsx\", header=3)\n",
    "contact_info_df\n",
    "\n",
    "def to_dict(str_val):\n",
    "    return eval(str_val)\n",
    "\n",
    "contact_info_df[['contact_id', 'name', 'email']] = pd.DataFrame(contact_info_df['contact_info'].apply(to_dict).tolist())\n",
    "\n",
    "# Drop the original 'contact_info' column if needed\n",
    "contact_info_df = contact_info_df.drop('contact_info', axis=1)\n",
    "contact_info_df['first_name'] = contact_info_df['name'].str.split(' ').str[0]\n",
    "contact_info_df['last_name'] = contact_info_df['name'].str.split(' ').str[1]\n",
    "contact_info_df=contact_info_df[['contact_id','first_name','last_name','email']]\n",
    "contact_info_df.to_csv('contacts.csv', encoding='utf8', index=False)\n",
    "contact_info_df\n",
    "\n"
   ]
  }
 ],
 "metadata": {
  "kernelspec": {
   "display_name": "Python 3 (ipykernel)",
   "language": "python",
   "name": "python3"
  },
  "language_info": {
   "codemirror_mode": {
    "name": "ipython",
    "version": 3
   },
   "file_extension": ".py",
   "mimetype": "text/x-python",
   "name": "python",
   "nbconvert_exporter": "python",
   "pygments_lexer": "ipython3",
   "version": "3.12.0"
  }
 },
 "nbformat": 4,
 "nbformat_minor": 4
}
